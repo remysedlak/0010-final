{
 "cells": [
  {
   "cell_type": "markdown",
   "metadata": {},
   "source": [
    "# PITT FLUIDS"
   ]
  },
  {
   "cell_type": "markdown",
   "metadata": {},
   "source": [
    " ### By Remy Sedlak, Veer Patel, and Nate Roper\n",
    " \n",
    " \n",
    " \n",
    " \n",
    " \n",
    " \n",
    " \n",
    " "
   ]
  },
  {
   "cell_type": "markdown",
   "metadata": {},
   "source": [
    "***"
   ]
  },
  {
   "cell_type": "markdown",
   "metadata": {},
   "source": [
    "# INTRODUCTION"
   ]
  },
  {
   "cell_type": "markdown",
   "metadata": {},
   "source": [
    "## Our metric: Air quality and water availability"
   ]
  },
  {
   "cell_type": "markdown",
   "metadata": {},
   "source": [
    "Our datasets involve:\n",
    "* Water Fountain Availability\n",
    "* Pools around Pittsburgh\n",
    "* Air quality in neighborhoods"
   ]
  },
  {
   "cell_type": "markdown",
   "metadata": {},
   "source": [
    "Features we implemented in our project:\n",
    "* matplot\n",
    "* pandas\n",
    "* geopandas"
   ]
  },
  {
   "cell_type": "markdown",
   "metadata": {},
   "source": [
    "## THE BEST NEIGHBORHOOD IS..."
   ]
  },
  {
   "cell_type": "markdown",
   "metadata": {},
   "source": [
    "## **Highland**\n",
    "### This decision was based on the results of all three data sets.  It has the highest pool capacity, second highest number of water features, and while it did not have the cleanest air, it was always in a safe range.  Although some other areas may beat highland in a singular metric, when considered overall, Highland has the highest quality fluids in Pittsburgh."
   ]
  },
  {
   "cell_type": "markdown",
   "metadata": {},
   "source": [
    "## Conclusions"
   ]
  },
  {
   "cell_type": "markdown",
   "metadata": {},
   "source": [
    "### Nate Roper: While the results of the analysis say that Highland is the best neighborhood in Pittsburgh, I still think Oakland and Monroeville are better.  Having lived in Monroeville growing up and Oakland through college, I can confidently say that the fluids in these neighborhoods are fine, as long as you filter the water.  Also, a difference of a few AQI is too small to notice anyway.\n",
    "\n",
    "### Remy Sedlak: With the comparing of our data, Highland appears the best. I am from Pittsburgh, but have not spent much time in the area, so I guess I do believe it must be the best until I "
   ]
  },
  {
   "cell_type": "code",
   "execution_count": null,
   "metadata": {},
   "outputs": [],
   "source": []
  }
 ],
 "metadata": {
  "kernelspec": {
   "display_name": "Python 3",
   "language": "python",
   "name": "python3"
  },
  "language_info": {
   "codemirror_mode": {
    "name": "ipython",
    "version": 3
   },
   "file_extension": ".py",
   "mimetype": "text/x-python",
   "name": "python",
   "nbconvert_exporter": "python",
   "pygments_lexer": "ipython3",
   "version": "3.8.3"
  }
 },
 "nbformat": 4,
 "nbformat_minor": 4
}
